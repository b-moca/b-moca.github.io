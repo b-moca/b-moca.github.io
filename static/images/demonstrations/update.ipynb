{
 "cells": [
  {
   "cell_type": "code",
   "execution_count": 1,
   "metadata": {},
   "outputs": [],
   "source": [
    "from PIL import Image, ImageSequence\n",
    "\n",
    "fn = \"alarm.gif\"\n",
    "im = Image.open(fn)"
   ]
  },
  {
   "cell_type": "code",
   "execution_count": 2,
   "metadata": {},
   "outputs": [],
   "source": [
    "base_width = 600\n",
    "image_list = []\n",
    "for frame in ImageSequence.Iterator(im):\n",
    "    wpercent = (base_width / float(frame.size[0]))\n",
    "    hsize = int((float(frame.size[1]) * float(wpercent)))\n",
    "    frame = frame.resize((base_width, hsize), Image.Resampling.LANCZOS)\n",
    "    \n",
    "    image_list.append(frame)\n",
    "\n",
    "for _ in range(4):\n",
    "    image_list.append(image_list[-1])"
   ]
  },
  {
   "cell_type": "code",
   "execution_count": 3,
   "metadata": {},
   "outputs": [],
   "source": [
    "image_list[0].save(fn, save_all=True, append_images=image_list[1:], optimize=False, duration=500, loop=0)"
   ]
  }
 ],
 "metadata": {
  "kernelspec": {
   "display_name": "Python 3",
   "language": "python",
   "name": "python3"
  },
  "language_info": {
   "codemirror_mode": {
    "name": "ipython",
    "version": 3
   },
   "file_extension": ".py",
   "mimetype": "text/x-python",
   "name": "python",
   "nbconvert_exporter": "python",
   "pygments_lexer": "ipython3",
   "version": "3.10.4"
  }
 },
 "nbformat": 4,
 "nbformat_minor": 2
}
